{
  "nbformat": 4,
  "nbformat_minor": 0,
  "metadata": {
    "colab": {
      "provenance": [],
      "include_colab_link": true
    },
    "kernelspec": {
      "name": "python3",
      "display_name": "Python 3"
    },
    "language_info": {
      "name": "python"
    }
  },
  "cells": [
    {
      "cell_type": "markdown",
      "metadata": {
        "id": "view-in-github",
        "colab_type": "text"
      },
      "source": [
        "<a href=\"https://colab.research.google.com/github/Prisze/AAI-510-Final-Project/blob/main/AAI510.ipynb\" target=\"_parent\"><img src=\"https://colab.research.google.com/assets/colab-badge.svg\" alt=\"Open In Colab\"/></a>"
      ]
    },
    {
      "cell_type": "code",
      "execution_count": null,
      "metadata": {
        "colab": {
          "base_uri": "https://localhost:8080/"
        },
        "id": "aZ_ZiEgJJZHQ",
        "outputId": "bd1162ad-efe0-459b-eff6-011699f14fce"
      },
      "outputs": [
        {
          "output_type": "stream",
          "name": "stdout",
          "text": [
            "Requirement already satisfied: tab-transformer-pytorch in /usr/local/lib/python3.11/dist-packages (0.4.2)\n",
            "Requirement already satisfied: einops>=0.8 in /usr/local/lib/python3.11/dist-packages (from tab-transformer-pytorch) (0.8.1)\n",
            "Requirement already satisfied: hyper-connections>=0.1.15 in /usr/local/lib/python3.11/dist-packages (from tab-transformer-pytorch) (0.1.15)\n",
            "Requirement already satisfied: torch>=2.3 in /usr/local/lib/python3.11/dist-packages (from tab-transformer-pytorch) (2.6.0+cu124)\n",
            "Requirement already satisfied: filelock in /usr/local/lib/python3.11/dist-packages (from torch>=2.3->tab-transformer-pytorch) (3.18.0)\n",
            "Requirement already satisfied: typing-extensions>=4.10.0 in /usr/local/lib/python3.11/dist-packages (from torch>=2.3->tab-transformer-pytorch) (4.14.0)\n",
            "Requirement already satisfied: networkx in /usr/local/lib/python3.11/dist-packages (from torch>=2.3->tab-transformer-pytorch) (3.5)\n",
            "Requirement already satisfied: jinja2 in /usr/local/lib/python3.11/dist-packages (from torch>=2.3->tab-transformer-pytorch) (3.1.6)\n",
            "Requirement already satisfied: fsspec in /usr/local/lib/python3.11/dist-packages (from torch>=2.3->tab-transformer-pytorch) (2025.3.2)\n",
            "Requirement already satisfied: nvidia-cuda-nvrtc-cu12==12.4.127 in /usr/local/lib/python3.11/dist-packages (from torch>=2.3->tab-transformer-pytorch) (12.4.127)\n",
            "Requirement already satisfied: nvidia-cuda-runtime-cu12==12.4.127 in /usr/local/lib/python3.11/dist-packages (from torch>=2.3->tab-transformer-pytorch) (12.4.127)\n",
            "Requirement already satisfied: nvidia-cuda-cupti-cu12==12.4.127 in /usr/local/lib/python3.11/dist-packages (from torch>=2.3->tab-transformer-pytorch) (12.4.127)\n",
            "Requirement already satisfied: nvidia-cudnn-cu12==9.1.0.70 in /usr/local/lib/python3.11/dist-packages (from torch>=2.3->tab-transformer-pytorch) (9.1.0.70)\n",
            "Requirement already satisfied: nvidia-cublas-cu12==12.4.5.8 in /usr/local/lib/python3.11/dist-packages (from torch>=2.3->tab-transformer-pytorch) (12.4.5.8)\n",
            "Requirement already satisfied: nvidia-cufft-cu12==11.2.1.3 in /usr/local/lib/python3.11/dist-packages (from torch>=2.3->tab-transformer-pytorch) (11.2.1.3)\n",
            "Requirement already satisfied: nvidia-curand-cu12==10.3.5.147 in /usr/local/lib/python3.11/dist-packages (from torch>=2.3->tab-transformer-pytorch) (10.3.5.147)\n",
            "Requirement already satisfied: nvidia-cusolver-cu12==11.6.1.9 in /usr/local/lib/python3.11/dist-packages (from torch>=2.3->tab-transformer-pytorch) (11.6.1.9)\n",
            "Requirement already satisfied: nvidia-cusparse-cu12==12.3.1.170 in /usr/local/lib/python3.11/dist-packages (from torch>=2.3->tab-transformer-pytorch) (12.3.1.170)\n",
            "Requirement already satisfied: nvidia-cusparselt-cu12==0.6.2 in /usr/local/lib/python3.11/dist-packages (from torch>=2.3->tab-transformer-pytorch) (0.6.2)\n",
            "Requirement already satisfied: nvidia-nccl-cu12==2.21.5 in /usr/local/lib/python3.11/dist-packages (from torch>=2.3->tab-transformer-pytorch) (2.21.5)\n",
            "Requirement already satisfied: nvidia-nvtx-cu12==12.4.127 in /usr/local/lib/python3.11/dist-packages (from torch>=2.3->tab-transformer-pytorch) (12.4.127)\n",
            "Requirement already satisfied: nvidia-nvjitlink-cu12==12.4.127 in /usr/local/lib/python3.11/dist-packages (from torch>=2.3->tab-transformer-pytorch) (12.4.127)\n",
            "Requirement already satisfied: triton==3.2.0 in /usr/local/lib/python3.11/dist-packages (from torch>=2.3->tab-transformer-pytorch) (3.2.0)\n",
            "Requirement already satisfied: sympy==1.13.1 in /usr/local/lib/python3.11/dist-packages (from torch>=2.3->tab-transformer-pytorch) (1.13.1)\n",
            "Requirement already satisfied: mpmath<1.4,>=1.1.0 in /usr/local/lib/python3.11/dist-packages (from sympy==1.13.1->torch>=2.3->tab-transformer-pytorch) (1.3.0)\n",
            "Requirement already satisfied: MarkupSafe>=2.0 in /usr/local/lib/python3.11/dist-packages (from jinja2->torch>=2.3->tab-transformer-pytorch) (3.0.2)\n"
          ]
        }
      ],
      "source": [
        "!pip install tab-transformer-pytorch"
      ]
    },
    {
      "cell_type": "code",
      "source": [
        "import pandas as pd\n",
        "\n",
        "# Load datasets\n",
        "\n",
        "PATH_TRAIN = 'customer_churn_dataset-training-master.csv'\n",
        "PATH_TEST = 'customer_churn_dataset-testing-master.csv'\n",
        "\n",
        "df_train = pd.read_csv(PATH_TRAIN).dropna()\n",
        "df_test = pd.read_csv(PATH_TEST).dropna()"
      ],
      "metadata": {
        "id": "l92Ev1DkMSYN"
      },
      "execution_count": null,
      "outputs": []
    },
    {
      "cell_type": "code",
      "source": [
        "from pandas.api.types import CategoricalDtype\n",
        "import torch\n",
        "import json\n",
        "\n",
        "# Drop customer ID\n",
        "column_customerid = 'CustomerID'\n",
        "df_train = df_train.drop(columns=[column_customerid]).copy()\n",
        "df_test  = df_test.drop(columns=[column_customerid]).copy()\n",
        "\n",
        "# Get categorical and numerical columns\n",
        "cat_cols = df_train.select_dtypes(include=['object']).columns\n",
        "num_cols = df_train.select_dtypes(exclude=['object']).columns\n",
        "\n",
        "# Build category to integer mappings\n",
        "cat_dtypes = {}\n",
        "for column in cat_cols:\n",
        "    df_train[column] = df_train[column].astype('category')\n",
        "    cats = df_train[column].cat.categories\n",
        "    cat_dtypes[column] = CategoricalDtype(categories=cats, ordered=False)\n",
        "\n",
        "    # Replace categories with integers\n",
        "    df_train[column] = df_train[column].cat.codes\n",
        "\n",
        "# Apply those same mappings to test\n",
        "for column in cat_cols:\n",
        "    df_test[column] = df_test[column].astype(cat_dtypes[column]).cat.codes\n",
        "\n",
        "# Calculate continuous variables mean and std for normalization\n",
        "cont_stats = df_train[num_cols].agg(['mean', 'std'])\n",
        "continuous_mean_std = torch.tensor(cont_stats.values.T, dtype=torch.float32)\n",
        "\n",
        "# Calculate category cardinalities, ensuring the column is preserved\n",
        "cardinalities = [len(cat_dtypes[column].categories) for column in cat_cols]\n",
        "\n",
        "# Save config for deployment\n",
        "with open('config.json', 'w') as f:\n",
        "  json.dump({\n",
        "    'cat_cols': cat_cols.tolist(),\n",
        "    'num_cols': num_cols.tolist(),\n",
        "    'cardinalities': cardinalities,\n",
        "    'continuous_mean_std': continuous_mean_std.tolist(),\n",
        "    'cat_dtypes': {\n",
        "        column: cat_dtypes[column].categories.tolist()\n",
        "        for column in cat_cols\n",
        "    }\n",
        "  }, f)"
      ],
      "metadata": {
        "id": "CVaOBzG8PI9T"
      },
      "execution_count": null,
      "outputs": []
    },
    {
      "cell_type": "code",
      "source": [
        "from torch.utils.data import Dataset\n",
        "import numpy as np\n",
        "\n",
        "# Wrapper Dataset class\n",
        "class ChurnDataset(Dataset):\n",
        "  def __init__(self, df: pd.DataFrame):\n",
        "    self.x_categ = df[cat_cols].values.astype(np.int64)\n",
        "    self.x_cont = df[num_cols].values.astype(np.float32)\n",
        "    self.y = df['Churn'].values.astype(np.float32)\n",
        "\n",
        "  def __len__(self):\n",
        "    return len(self.y)\n",
        "\n",
        "  def __getitem__(self, idx):\n",
        "    return (\n",
        "      torch.from_numpy(self.x_categ[idx]),\n",
        "      torch.from_numpy(self.x_cont[idx]),\n",
        "      torch.tensor(self.y[idx]),\n",
        "    )"
      ],
      "metadata": {
        "id": "5TXvi9mrRtKm"
      },
      "execution_count": null,
      "outputs": []
    },
    {
      "cell_type": "code",
      "source": [
        "from torch.utils.data import DataLoader\n",
        "\n",
        "# Prepare Data Loaders\n",
        "BATCH_SIZE = 512\n",
        "\n",
        "train_loader = DataLoader(ChurnDataset(df_train), batch_size=BATCH_SIZE, shuffle=True)\n",
        "test_loader = DataLoader(ChurnDataset(df_test), batch_size=BATCH_SIZE)"
      ],
      "metadata": {
        "id": "c3sI7tVFTvh3"
      },
      "execution_count": null,
      "outputs": []
    },
    {
      "cell_type": "code",
      "source": [
        "from torch.optim import AdamW\n",
        "from torch.nn import BCEWithLogitsLoss\n",
        "from tab_transformer_pytorch import TabTransformer\n",
        "\n",
        "# Build model and training objects\n",
        "device = 'cuda' if torch.cuda.is_available() else 'cpu'\n",
        "\n",
        "model = TabTransformer(\n",
        "  categories=tuple(cardinalities),\n",
        "  num_continuous=len(num_cols),\n",
        "  dim=32,\n",
        "  dim_out=1,\n",
        "  depth=6,\n",
        "  heads=8,\n",
        "  attn_dropout=0.1,\n",
        "  ff_dropout=0.1,\n",
        "  mlp_hidden_mults=(4, 2),\n",
        "  continuous_mean_std=continuous_mean_std,\n",
        ").to(device)\n",
        "\n",
        "criterion = BCEWithLogitsLoss()\n",
        "optimizer = AdamW(model.parameters(), lr=1e-3, weight_decay=1e-2)"
      ],
      "metadata": {
        "id": "nznGDIhXT_Lz"
      },
      "execution_count": null,
      "outputs": []
    },
    {
      "cell_type": "code",
      "source": [
        "from tqdm import tqdm\n",
        "\n",
        "# Define train/test iteration\n",
        "def run_epoch(loader, train: bool = False):\n",
        "  \"\"\"Run one epoch; returns (avg_loss, preds, labels).\"\"\"\n",
        "\n",
        "  model.train() if train else model.eval()\n",
        "  total_loss, preds, labels = 0.0, [], []\n",
        "\n",
        "  # Wrap loader in tqdm for progress reporting\n",
        "  desc = 'Train' if train else 'Test'\n",
        "  for x_cat, x_cont, y in tqdm(loader, desc=f'{desc} Epoch', unit='batch'):\n",
        "    x_cat, x_cont, y = (\n",
        "      x_cat.to(device),\n",
        "      x_cont.to(device),\n",
        "      y.to(device).unsqueeze(1),\n",
        "    )\n",
        "\n",
        "    with torch.set_grad_enabled(train):\n",
        "      logits = model(x_cat, x_cont)\n",
        "      loss = criterion(logits, y)\n",
        "\n",
        "      if train:\n",
        "        optimizer.zero_grad()\n",
        "        loss.backward()\n",
        "        optimizer.step()\n",
        "\n",
        "    total_loss += loss.item() * y.size(0)\n",
        "    preds.append(torch.sigmoid(logits.detach()).cpu())\n",
        "    labels.append(y.cpu())\n",
        "\n",
        "  preds = torch.cat(preds).numpy().ravel()\n",
        "  labels = torch.cat(labels).numpy().ravel()\n",
        "\n",
        "  return total_loss / len(loader.dataset), preds, labels\n"
      ],
      "metadata": {
        "id": "MscKza6fULx7"
      },
      "execution_count": null,
      "outputs": []
    },
    {
      "cell_type": "code",
      "source": [
        "from sklearn.metrics import roc_auc_score, accuracy_score\n",
        "\n",
        "# Train model\n",
        "EPOCHS = 7\n",
        "\n",
        "best_auc, best_state = 0, None\n",
        "train_loss_history, test_loss_history = [], []\n",
        "for epoch in range(1, EPOCHS + 1):\n",
        "  train_loss, _, _ = run_epoch(train_loader, train=True)\n",
        "  test_loss, test_preds, test_labels = run_epoch(test_loader)\n",
        "  train_loss_history.append(train_loss)\n",
        "  test_loss_history.append(test_loss)\n",
        "  test_auc = roc_auc_score(test_labels, test_preds)\n",
        "  test_acc = accuracy_score(test_labels, test_preds >= 0.5)\n",
        "\n",
        "  print(\n",
        "    f'Epoch {epoch:02d} | train_loss={train_loss:.4f} | test_loss={test_loss:.4f} | test_auc={test_auc:.4f} | test_acc={test_acc:.4f}'\n",
        "  )\n",
        "\n",
        "  if test_auc > best_auc:\n",
        "    print('Updated best model')\n",
        "    best_auc = test_auc\n",
        "    best_state = model.state_dict()\n",
        "    torch.save(best_state, 'tabtransformer_best.tb')"
      ],
      "metadata": {
        "colab": {
          "base_uri": "https://localhost:8080/"
        },
        "id": "M6wSF_PYUewy",
        "outputId": "4624307e-0fbd-4c5c-86e0-283f80d3001e"
      },
      "execution_count": null,
      "outputs": [
        {
          "output_type": "stream",
          "name": "stderr",
          "text": [
            "Train Epoch: 100%|██████████| 861/861 [00:46<00:00, 18.64batch/s]\n",
            "Test Epoch: 100%|██████████| 126/126 [00:02<00:00, 47.29batch/s]\n"
          ]
        },
        {
          "output_type": "stream",
          "name": "stdout",
          "text": [
            "Epoch 01 | train_loss=0.0264 | test_loss=1.5608 | test_auc=0.9712 | test_acc=0.7659\n",
            "Updated best model\n"
          ]
        },
        {
          "output_type": "stream",
          "name": "stderr",
          "text": [
            "Train Epoch: 100%|██████████| 861/861 [00:45<00:00, 18.99batch/s]\n",
            "Test Epoch: 100%|██████████| 126/126 [00:02<00:00, 47.50batch/s]\n"
          ]
        },
        {
          "output_type": "stream",
          "name": "stdout",
          "text": [
            "Epoch 02 | train_loss=0.0043 | test_loss=2.2923 | test_auc=0.9319 | test_acc=0.7504\n"
          ]
        },
        {
          "output_type": "stream",
          "name": "stderr",
          "text": [
            "Train Epoch: 100%|██████████| 861/861 [00:45<00:00, 19.06batch/s]\n",
            "Test Epoch: 100%|██████████| 126/126 [00:02<00:00, 47.65batch/s]\n"
          ]
        },
        {
          "output_type": "stream",
          "name": "stdout",
          "text": [
            "Epoch 03 | train_loss=0.0033 | test_loss=2.2440 | test_auc=0.9346 | test_acc=0.7475\n"
          ]
        },
        {
          "output_type": "stream",
          "name": "stderr",
          "text": [
            "Train Epoch: 100%|██████████| 861/861 [00:45<00:00, 19.10batch/s]\n",
            "Test Epoch: 100%|██████████| 126/126 [00:02<00:00, 48.05batch/s]\n"
          ]
        },
        {
          "output_type": "stream",
          "name": "stdout",
          "text": [
            "Epoch 04 | train_loss=0.0028 | test_loss=3.6624 | test_auc=0.8854 | test_acc=0.7094\n"
          ]
        },
        {
          "output_type": "stream",
          "name": "stderr",
          "text": [
            "Train Epoch: 100%|██████████| 861/861 [00:47<00:00, 18.01batch/s]\n",
            "Test Epoch: 100%|██████████| 126/126 [00:02<00:00, 45.04batch/s]\n"
          ]
        },
        {
          "output_type": "stream",
          "name": "stdout",
          "text": [
            "Epoch 05 | train_loss=0.0025 | test_loss=5.4171 | test_auc=0.8342 | test_acc=0.6937\n"
          ]
        },
        {
          "output_type": "stream",
          "name": "stderr",
          "text": [
            "Train Epoch: 100%|██████████| 861/861 [00:45<00:00, 19.02batch/s]\n",
            "Test Epoch: 100%|██████████| 126/126 [00:02<00:00, 47.85batch/s]\n"
          ]
        },
        {
          "output_type": "stream",
          "name": "stdout",
          "text": [
            "Epoch 06 | train_loss=0.0022 | test_loss=28.3146 | test_auc=0.8114 | test_acc=0.6957\n"
          ]
        },
        {
          "output_type": "stream",
          "name": "stderr",
          "text": [
            "Train Epoch: 100%|██████████| 861/861 [00:45<00:00, 19.12batch/s]\n",
            "Test Epoch: 100%|██████████| 126/126 [00:02<00:00, 44.83batch/s]"
          ]
        },
        {
          "output_type": "stream",
          "name": "stdout",
          "text": [
            "Epoch 07 | train_loss=0.0023 | test_loss=10.3803 | test_auc=0.8164 | test_acc=0.7371\n"
          ]
        },
        {
          "output_type": "stream",
          "name": "stderr",
          "text": [
            "\n"
          ]
        }
      ]
    },
    {
      "cell_type": "code",
      "source": [
        "from matplotlib import pyplot as plt\n",
        "\n",
        "# Plot training loss\n",
        "\n",
        "epochs = range(1, len(train_loss_history) + 1)\n",
        "\n",
        "plt.plot(epochs, train_loss_history, label='Train')\n",
        "plt.plot(epochs, test_loss_history,  label='Test')\n",
        "plt.title('Training Loss')\n",
        "plt.xlabel('Epoch')\n",
        "plt.ylabel('Loss')\n",
        "plt.legend()\n",
        "plt.show()"
      ],
      "metadata": {
        "colab": {
          "base_uri": "https://localhost:8080/",
          "height": 472
        },
        "id": "F5tqbnUDd0Gi",
        "outputId": "50ca1e80-7a25-42a4-f706-ad5fe63d4532"
      },
      "execution_count": null,
      "outputs": [
        {
          "output_type": "display_data",
          "data": {
            "text/plain": [
              "<Figure size 640x480 with 1 Axes>"
            ],
            "image/png": "[encoded data removed]"
          },
          "metadata": {}
        }
      ]
    },
    {
      "cell_type": "code",
      "source": [
        "from sklearn.metrics import (accuracy_score, precision_score, recall_score,\n",
        "  f1_score, roc_auc_score)\n",
        "\n",
        "# Evaluate best model\n",
        "best_state = torch.load('tabtransformer_best.tb', map_location=torch.device(device))\n",
        "model.load_state_dict(best_state)\n",
        "_, test_preds, test_labels = run_epoch(test_loader)\n",
        "pred_labels = (test_preds >= 0.5).astype(int)\n",
        "\n",
        "print('')\n",
        "print(f'accuracy score: {accuracy_score(test_labels, pred_labels)}')\n",
        "print(f'precision score: {precision_score(test_labels, pred_labels)}')\n",
        "print(f'recall score: {recall_score(test_labels, pred_labels)}')\n",
        "print(f'f1 score: {f1_score(test_labels, pred_labels)}')\n",
        "print(f'roc auc score: {roc_auc_score(test_labels, test_preds)}')"
      ],
      "metadata": {
        "colab": {
          "base_uri": "https://localhost:8080/"
        },
        "id": "_gMqmsLvgwH0",
        "outputId": "530ddc17-ac08-46d8-b64b-85fe2f0ad695"
      },
      "execution_count": null,
      "outputs": [
        {
          "output_type": "stream",
          "name": "stderr",
          "text": [
            "Test Epoch: 100%|██████████| 126/126 [00:04<00:00, 28.70batch/s]\n"
          ]
        },
        {
          "output_type": "stream",
          "name": "stdout",
          "text": [
            "\n",
            "accuracy score: 0.7659303445490415\n",
            "precision score: 0.6703253020030476\n",
            "recall score: 0.9954087823434886\n",
            "f1 score: 0.8011455116530736\n",
            "roc auc score: 0.9712085250278145\n"
          ]
        }
      ]
    },
    {
      "cell_type": "code",
      "source": [],
      "metadata": {
        "id": "rr2s2HvAk25k"
      },
      "execution_count": null,
      "outputs": []
    }
  ]
}